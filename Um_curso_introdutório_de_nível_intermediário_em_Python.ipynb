{
  "nbformat": 4,
  "nbformat_minor": 0,
  "metadata": {
    "colab": {
      "provenance": [],
      "authorship_tag": "ABX9TyMBuRtjw4ZKQ8/lLgUbViMQ",
      "include_colab_link": true
    },
    "kernelspec": {
      "name": "python3",
      "display_name": "Python 3"
    },
    "language_info": {
      "name": "python"
    }
  },
  "cells": [
    {
      "cell_type": "markdown",
      "metadata": {
        "id": "view-in-github",
        "colab_type": "text"
      },
      "source": [
        "<a href=\"https://colab.research.google.com/github/abudabidibii/Python_BigData/blob/main/Um_curso_introdut%C3%B3rio_de_n%C3%ADvel_intermedi%C3%A1rio_em_Python.ipynb\" target=\"_parent\"><img src=\"https://colab.research.google.com/assets/colab-badge.svg\" alt=\"Open In Colab\"/></a>"
      ]
    },
    {
      "cell_type": "markdown",
      "source": [
        "\n",
        "\n",
        "---\n",
        "\n",
        "⏰ O tempo está passando e você ainda não aprendeu Python, mas já domina outra linguagem de programação? Este notebook apresenta uma notação clara e adequada à sua compreensão, desde que você já tenha uma base sólida em lógica de programação em outras linguagens.\n",
        "\n",
        "---\n",
        "> A convenção a seguir identifica o tipo de variável pelo seu prefixo, conforme podemos acompanhar abaixo:\n",
        "\n",
        "| Prefixo da Variável | Tipo da variável | Exemplo |\n",
        "|---------------------|------------------|---------|\n",
        "| s_ | String | `s_nome = \"Isto é uma string\"` |\n",
        "| set_ | Set | `set_dias_da_semana = {'Seg', 'Ter', 'Qua', 'Qui', 'Sex', 'Sab', 'Dom'}` |\n",
        "| t_ | Tupla | `t_vogais = ('a', 'e', 'i', 'o', 'u')` |\n",
        "| d_ | Dicionário | `d_meses_do_ano = {'Jan': 1, 'Fev': 2, ..., 'Dez': 12}` |\n",
        "| i_ | Inteiro | `i_idade = 44` |\n",
        "| f_ | Float | `f_valor = 44.5` |\n",
        "| l_ | Lista | `l_nomes = ['Joao', 'Alfredo', ..., 'Manoel']` |\n",
        "| a_ | Array | `Array, vetor, matriz` |\n",
        "\n"
      ],
      "metadata": {
        "id": "zjXCFJkueUCN"
      }
    },
    {
      "cell_type": "markdown",
      "source": [
        "# Compreendendo o Python\n",
        "\n",
        "- O Python é uma linguagem `case-sensitive`, existe diferenciação do maiúsculo para o minúsculo;\n",
        "- Declaramos objetos com letras ou '_', underscore, e números (Alfanuméricos) - Proibido o uso na declaração: !, @, #, $, % e .;\n",
        "- Comentário: # na linha, '''...''' (3 apóstrofes) para várias linhas;"
      ],
      "metadata": {
        "id": "3D2VSoPpa0-T"
      }
    },
    {
      "cell_type": "code",
      "execution_count": null,
      "metadata": {
        "id": "_D9Q_Jt7axDd"
      },
      "outputs": [],
      "source": [
        "Arthur_idade = 23\n",
        "print(Arthur_idade) # Printa objeto\n",
        "'''Eu quero saber\n",
        "quem é que tr...'''"
      ]
    },
    {
      "cell_type": "markdown",
      "source": [
        "O comentário dentro de ''' ''' é para se utilizar dentro de funções, chamada de docstring"
      ],
      "metadata": {
        "id": "XYqt1u58bCnb"
      }
    },
    {
      "cell_type": "code",
      "source": [
        "def printa():\n",
        "    print(Arthur_idade) # Printa objeto\n",
        "    '''Eu quero saber\n",
        "    quem é que tr...'''\n",
        "    print(\"Vish Maria!\")\n",
        "\n",
        "printa()"
      ],
      "metadata": {
        "colab": {
          "base_uri": "https://localhost:8080/",
          "height": 311
        },
        "id": "lF0Ugx_TbFQg",
        "outputId": "0199fc84-fb1f-45a2-f6ed-af755c97a7aa"
      },
      "execution_count": 1,
      "outputs": [
        {
          "output_type": "error",
          "ename": "NameError",
          "evalue": "name 'Arthur_idade' is not defined",
          "traceback": [
            "\u001b[0;31m---------------------------------------------------------------------------\u001b[0m",
            "\u001b[0;31mNameError\u001b[0m                                 Traceback (most recent call last)",
            "\u001b[0;32m<ipython-input-1-774a4e85a45f>\u001b[0m in \u001b[0;36m<cell line: 7>\u001b[0;34m()\u001b[0m\n\u001b[1;32m      5\u001b[0m     \u001b[0mprint\u001b[0m\u001b[0;34m(\u001b[0m\u001b[0;34m\"Vish Maria!\"\u001b[0m\u001b[0;34m)\u001b[0m\u001b[0;34m\u001b[0m\u001b[0;34m\u001b[0m\u001b[0m\n\u001b[1;32m      6\u001b[0m \u001b[0;34m\u001b[0m\u001b[0m\n\u001b[0;32m----> 7\u001b[0;31m \u001b[0mprinta\u001b[0m\u001b[0;34m(\u001b[0m\u001b[0;34m)\u001b[0m\u001b[0;34m\u001b[0m\u001b[0;34m\u001b[0m\u001b[0m\n\u001b[0m",
            "\u001b[0;32m<ipython-input-1-774a4e85a45f>\u001b[0m in \u001b[0;36mprinta\u001b[0;34m()\u001b[0m\n\u001b[1;32m      1\u001b[0m \u001b[0;32mdef\u001b[0m \u001b[0mprinta\u001b[0m\u001b[0;34m(\u001b[0m\u001b[0;34m)\u001b[0m\u001b[0;34m:\u001b[0m\u001b[0;34m\u001b[0m\u001b[0;34m\u001b[0m\u001b[0m\n\u001b[0;32m----> 2\u001b[0;31m     \u001b[0mprint\u001b[0m\u001b[0;34m(\u001b[0m\u001b[0mArthur_idade\u001b[0m\u001b[0;34m)\u001b[0m \u001b[0;31m# Printa objeto\u001b[0m\u001b[0;34m\u001b[0m\u001b[0;34m\u001b[0m\u001b[0m\n\u001b[0m\u001b[1;32m      3\u001b[0m     '''Eu quero saber \n\u001b[1;32m      4\u001b[0m     quem é que tr...'''\n\u001b[1;32m      5\u001b[0m     \u001b[0mprint\u001b[0m\u001b[0;34m(\u001b[0m\u001b[0;34m\"Vish Maria!\"\u001b[0m\u001b[0;34m)\u001b[0m\u001b[0;34m\u001b[0m\u001b[0;34m\u001b[0m\u001b[0m\n",
            "\u001b[0;31mNameError\u001b[0m: name 'Arthur_idade' is not defined"
          ]
        }
      ]
    },
    {
      "cell_type": "markdown",
      "source": [
        "%md\n",
        "# Como saber se a palavra é uma função dentro da linguagem Python?"
      ],
      "metadata": {
        "id": "FDqpL_DDbJSL"
      }
    },
    {
      "cell_type": "code",
      "source": [
        "import keyword\n",
        "keyword.iskeyword(\"return\")"
      ],
      "metadata": {
        "colab": {
          "base_uri": "https://localhost:8080/"
        },
        "id": "fWxSTtHRbGvp",
        "outputId": "556abfdb-c4f5-4ebd-e639-eb99b595ef54"
      },
      "execution_count": 2,
      "outputs": [
        {
          "output_type": "execute_result",
          "data": {
            "text/plain": [
              "True"
            ]
          },
          "metadata": {},
          "execution_count": 2
        }
      ]
    },
    {
      "cell_type": "code",
      "source": [
        "# Deletar objetos:\n",
        "del nome_objeto"
      ],
      "metadata": {
        "colab": {
          "base_uri": "https://localhost:8080/",
          "height": 165
        },
        "id": "Ss8uxUUubOIc",
        "outputId": "1589cbf7-3040-413e-b43a-52eef3d28bb8"
      },
      "execution_count": 3,
      "outputs": [
        {
          "output_type": "error",
          "ename": "NameError",
          "evalue": "name 'nome_objeto' is not defined",
          "traceback": [
            "\u001b[0;31m---------------------------------------------------------------------------\u001b[0m",
            "\u001b[0;31mNameError\u001b[0m                                 Traceback (most recent call last)",
            "\u001b[0;32m<ipython-input-3-d68f40bb0b01>\u001b[0m in \u001b[0;36m<cell line: 2>\u001b[0;34m()\u001b[0m\n\u001b[1;32m      1\u001b[0m \u001b[0;31m# Deletar objetos:\u001b[0m\u001b[0;34m\u001b[0m\u001b[0;34m\u001b[0m\u001b[0m\n\u001b[0;32m----> 2\u001b[0;31m \u001b[0;32mdel\u001b[0m \u001b[0mnome_objeto\u001b[0m\u001b[0;34m\u001b[0m\u001b[0;34m\u001b[0m\u001b[0m\n\u001b[0m",
            "\u001b[0;31mNameError\u001b[0m: name 'nome_objeto' is not defined"
          ]
        }
      ]
    },
    {
      "cell_type": "markdown",
      "source": [
        "# Estruturas Condicionais\n",
        "- if, elif e else"
      ],
      "metadata": {
        "id": "fNhVnc8DbRBr"
      }
    },
    {
      "cell_type": "code",
      "source": [
        "i_idade = 23\n",
        "s_nome = 'Arthur Pedro de Oliveira Silva'"
      ],
      "metadata": {
        "id": "XRbsCoT_bO1u"
      },
      "execution_count": 4,
      "outputs": []
    },
    {
      "cell_type": "code",
      "source": [
        "if 'Arthur' in s_nome:\n",
        "    print('É um Arthur')\n",
        "elif 'Pedro' in s_nome:\n",
        "    print(\"É um Pedro\")\n",
        "else: # O `ELSE` não pode ter uma condição associada\n",
        "    print(\"MDS, um diferente!\")"
      ],
      "metadata": {
        "colab": {
          "base_uri": "https://localhost:8080/"
        },
        "id": "8ieZbwvvbV7g",
        "outputId": "13ba1d0a-9f55-4fef-b458-ae7b3d0dd585"
      },
      "execution_count": 5,
      "outputs": [
        {
          "output_type": "stream",
          "name": "stdout",
          "text": [
            "É um Arthur\n"
          ]
        }
      ]
    },
    {
      "cell_type": "code",
      "source": [
        "if 'Arthur' in s_nome:\n",
        "    print('É um Arthur')\n",
        "if 'Pedro' in s_nome:\n",
        "    print(\"É um Pedro\")\n",
        "if 'Arthur Silva' not in s_nome:\n",
        "    print(\"MDS, um diferente!\")"
      ],
      "metadata": {
        "colab": {
          "base_uri": "https://localhost:8080/"
        },
        "id": "kg2IYIW7bXoQ",
        "outputId": "146d225c-214b-4d62-f137-26ca068f9dd8"
      },
      "execution_count": 6,
      "outputs": [
        {
          "output_type": "stream",
          "name": "stdout",
          "text": [
            "É um Arthur\n",
            "É um Pedro\n",
            "MDS, um diferente!\n"
          ]
        }
      ]
    },
    {
      "cell_type": "markdown",
      "source": [
        "# Exercício 1: Verificação de Idade para Votação\n",
        "#### Descrição:\n",
        "\n",
        "- Escreva um programa que solicite ao usuário sua idade e verifique se ele está apto a votar. As regras são:\n",
        "\n",
        "- Se a idade for menor que 16 anos, exibir \"Você ainda não pode votar.\"\n",
        "- Se a idade for entre 16 e 17 anos ou igual a 70 anos ou mais, exibir \"O voto é opcional para você.\"\n",
        "- Se a idade for entre 18 e 69 anos, exibir \"O voto é obrigatório para você.\"\n",
        "##### Dicas:\n",
        "\n",
        "- Use int(input(\"Digite sua idade: \")) para capturar a idade como um número inteiro.\n",
        "- Utilize estruturas if, elif e else para verificar as condições."
      ],
      "metadata": {
        "id": "kGyAhpLAbbIg"
      }
    },
    {
      "cell_type": "code",
      "source": [
        "def voto_obrigatorio(i_idade):\n",
        "    if i_idade < 16:\n",
        "        print(\"Você não pode votar!\")\n",
        "    elif i_idade < 18 or i_idade >= 70:\n",
        "        print('O voto para você é opcional.')\n",
        "    else:\n",
        "        print(\"O voto é obrigatório.\")"
      ],
      "metadata": {
        "id": "pDs63O79bZOH"
      },
      "execution_count": 7,
      "outputs": []
    },
    {
      "cell_type": "code",
      "source": [
        "voto_obrigatorio(int(input('Digite a sua idade:')))"
      ],
      "metadata": {
        "colab": {
          "base_uri": "https://localhost:8080/"
        },
        "id": "RMX_Uj1zbecP",
        "outputId": "fa7e55a2-9c8b-43f4-888b-cbcbfb05be96"
      },
      "execution_count": 8,
      "outputs": [
        {
          "output_type": "stream",
          "name": "stdout",
          "text": [
            "Digite a sua idade:1\n",
            "Você não pode votar!\n"
          ]
        }
      ]
    },
    {
      "cell_type": "markdown",
      "source": [
        "\n",
        "\n",
        "---\n",
        "\n",
        "# Exercício 2: Calculadora Simples\n",
        "#### Descrição:\n",
        "\n",
        "- Crie um programa que peça ao usuário dois números e uma operação matemática a ser realizada (+, -, *, /). O programa deve executar a operação e exibir o resultado.\n",
        "\n",
        "##### Dicas:\n",
        "\n",
        "- Use input() para capturar os números e a operação.\n",
        "- Utilize condicionais if, elif, else para determinar qual operação realizar.\n",
        "- Lembre-se de converter os números para float ou int antes de operar."
      ],
      "metadata": {
        "id": "NnP1nNlkbjGI"
      }
    },
    {
      "cell_type": "code",
      "source": [
        "while True:\n",
        "    s_operacao = input(\"Seleciona a operação que deseja: (+,-,/,*)\\n\")\n",
        "    if s_operacao not in ('+','-','/','*'):\n",
        "        print(\"Seleciona uma operação válida!\\n\")\n",
        "    else:\n",
        "        print('Selecionado!')\n",
        "        break"
      ],
      "metadata": {
        "colab": {
          "base_uri": "https://localhost:8080/"
        },
        "id": "Ot-McCmkbf1n",
        "outputId": "92ba54e7-d196-445b-f64d-3ceb5e82c40f"
      },
      "execution_count": 9,
      "outputs": [
        {
          "output_type": "stream",
          "name": "stdout",
          "text": [
            "Seleciona a operação que deseja: (+,-,/,*)\n",
            "+\n",
            "Selecionado!\n"
          ]
        }
      ]
    },
    {
      "cell_type": "code",
      "source": [
        "while True:\n",
        "    try:\n",
        "        i_valor1 = int(input(\"Qual o primeiro número? \\n\"))\n",
        "        i_valor2 = int(input(\"Qual o segundo número? \\n\"))\n",
        "        break\n",
        "    except:\n",
        "        print('Número não é válido!!!')"
      ],
      "metadata": {
        "colab": {
          "base_uri": "https://localhost:8080/"
        },
        "id": "uuAWfDUBbxDC",
        "outputId": "0bec4b13-2e0e-4fc9-a5ea-31ca039fa894"
      },
      "execution_count": 10,
      "outputs": [
        {
          "name": "stdout",
          "output_type": "stream",
          "text": [
            "Qual o primeiro número? \n",
            "4\n",
            "Qual o segundo número? \n",
            "4\n"
          ]
        }
      ]
    },
    {
      "cell_type": "code",
      "source": [
        "def operacao(i_valor1, i_valor2, s_operacao):\n",
        "    if s_operacao == '/':\n",
        "        print(i_valor1/i_valor2)\n",
        "    elif s_operacao == '*':\n",
        "        print(i_valor1*i_valor2)\n",
        "    elif s_operacao == '-':\n",
        "        print(i_valor1-i_valor2)\n",
        "    else:\n",
        "        print(i_valor1+i_valor2)"
      ],
      "metadata": {
        "id": "XT2rah_Hb1tQ"
      },
      "execution_count": 11,
      "outputs": []
    },
    {
      "cell_type": "code",
      "source": [
        "operacao(i_valor1, i_valor2, s_operacao)"
      ],
      "metadata": {
        "colab": {
          "base_uri": "https://localhost:8080/"
        },
        "id": "NMmvEXRob5EB",
        "outputId": "cac01d7d-905c-4b93-8c4c-9e773d1e4df0"
      },
      "execution_count": 12,
      "outputs": [
        {
          "output_type": "stream",
          "name": "stdout",
          "text": [
            "8\n"
          ]
        }
      ]
    },
    {
      "cell_type": "markdown",
      "source": [
        "\n",
        "\n",
        "---\n",
        "# Exercício 3: Classificação de Triângulos\n",
        "#### Descrição:\n",
        "\n",
        "- Escreva um programa que receba o comprimento de três lados de um triângulo e determine se ele é equilátero, isósceles ou escaleno.\n",
        "\n",
        "- Equilátero: todos os lados iguais.\n",
        "- Isósceles: dois lados iguais.\n",
        "- Escaleno: todos os lados diferentes.\n",
        "#### Dicas:\n",
        "\n",
        "- Solicite ao usuário os comprimentos dos três lados.\n",
        "- Use condicionais para comparar os lados e determinar o tipo de triângulo."
      ],
      "metadata": {
        "id": "jPIbq7UhcAtZ"
      }
    },
    {
      "cell_type": "code",
      "source": [
        "while True:\n",
        "    try:\n",
        "        i_lado1 = float(input('Qual o tamanho do primeiro lado?\\n'))\n",
        "        i_lado2 = float(input('Qual o tamanho do segundo lado?\\n'))\n",
        "        i_lado3 = float(input('Qual o tamanho do terceiro lado?'))\n",
        "        if i_lado1 + i_lado2 > i_lado3:\n",
        "            if i_lado2 + i_lado3 > i_lado1:\n",
        "                if i_lado3 + i_lado1 > i_lado2:\n",
        "                    print(\"É um triângulo válido!\")\n",
        "                else:\n",
        "                    raise ValueError(\"Os lados fornecidos não formam um triângulo!\")\n",
        "            else:\n",
        "                raise ValueError(\"Os lados fornecidos não formam um triângulo!\")\n",
        "        else:\n",
        "            raise ValueError(\"Os lados fornecidos não formam um triângulo!\")\n",
        "        if i_lado1 == i_lado2 and i_lado1 == i_lado3:\n",
        "            print('É um triângulo Equilátero.')\n",
        "            break\n",
        "        elif i_lado1 == i_lado2 or i_lado1 == i_lado3 or i_lado2 == i_lado3:\n",
        "            if i_lado1 != i_lado2 or i_lado1 != i_lado3 or i_lado2 != i_lado3:\n",
        "                print(\"É um triângulo Isósceles.\")\n",
        "                break\n",
        "        else:\n",
        "            print(\"É um triângulo Escaleno\")\n",
        "            break\n",
        "    except ValueError as e:\n",
        "        print(f\"Erro: {e}\")"
      ],
      "metadata": {
        "colab": {
          "base_uri": "https://localhost:8080/"
        },
        "id": "vdK0HT8tb-Ug",
        "outputId": "2061db4c-5c59-43d4-da4e-bc7822f5e2e0"
      },
      "execution_count": 13,
      "outputs": [
        {
          "output_type": "stream",
          "name": "stdout",
          "text": [
            "Qual o tamanho do primeiro lado?\n",
            "1\n",
            "Qual o tamanho do segundo lado?\n",
            "2\n",
            "Qual o tamanho do terceiro lado?3\n",
            "Erro: Os lados fornecidos não formam um triângulo!\n",
            "Qual o tamanho do primeiro lado?\n",
            "4\n",
            "Qual o tamanho do segundo lado?\n",
            "3\n",
            "Qual o tamanho do terceiro lado?5\n",
            "É um triângulo válido!\n",
            "É um triângulo Escaleno\n"
          ]
        }
      ]
    },
    {
      "cell_type": "markdown",
      "source": [
        "\n",
        "---\n",
        "\n",
        "\n",
        "# Exercício 4: Verificação de Número Par ou Ímpar\n",
        "#### Descrição:\n",
        "\n",
        "- Crie um programa que peça um número inteiro ao usuário e informe se ele é par ou ímpar.\n",
        "\n",
        "#### Dicas:\n",
        "\n",
        "- Utilize o operador módulo % para verificar o resto da divisão por 2.\n",
        "- Se o resto for zero, o número é par; caso contrário, é ímpar."
      ],
      "metadata": {
        "id": "qGAcCvMocKwJ"
      }
    },
    {
      "cell_type": "code",
      "source": [
        "while True:\n",
        "  try:\n",
        "    i_numero = int(input(\"Insira um número inteiro:\\n\"))\n",
        "    if isinstance(i_numero, int) == True:\n",
        "      if i_numero % 2 == 0:\n",
        "        print(f\"{i_numero} é um número par!\")\n",
        "        break\n",
        "      else:\n",
        "        print(f\"{i_numero} é um número ímpar!\")\n",
        "        break\n",
        "    else:\n",
        "      print(\"Insira um número inteiro válido!\")\n",
        "  except ValueError as e:\n",
        "    print(f\"Erro: {e}\")"
      ],
      "metadata": {
        "id": "PygMCHq2cGtw"
      },
      "execution_count": null,
      "outputs": []
    },
    {
      "cell_type": "markdown",
      "source": [
        "\n",
        "\n",
        "---\n",
        "\n",
        "# Exercício 5: Cálculo de Média e Aprovação\n",
        "#### Descrição:\n",
        "\n",
        "- Desenvolva um programa que solicite as notas de duas provas de um aluno. Calcule a média e determine:\n",
        "\n",
        "- Se a média for maior ou igual a 7, exibir \"Aprovado\".\n",
        "- Se a média for entre 5 e 6.9, exibir \"Recuperação\".\n",
        "- Se a média for menor que 5, exibir \"Reprovado\".\n",
        "#### Dicas:\n",
        "\n",
        "- Calcule a média aritmética das duas notas.\n",
        "- Use condicionais para verificar em qual faixa a média se encontra."
      ],
      "metadata": {
        "id": "DR9wLWQ9cR8n"
      }
    },
    {
      "cell_type": "code",
      "source": [
        "while True:\n",
        "    try:\n",
        "        f_nota1 = float(input(\"Insira a primeira nota do aluno:\\n\"))\n",
        "        f_nota2 = float(input(\"Insira a segunda nota:\\n\"))\n",
        "        soma_nota = f_nota1 + f_nota2\n",
        "        if soma_nota/2 >= 7:\n",
        "            print(f\"Aluno aprovado com nota {soma_nota/2}!\")\n",
        "            break\n",
        "        elif soma_nota/2 < 3:\n",
        "            print(f\"Aluno reprovado com nota {soma_nota/2}!\")\n",
        "            break\n",
        "        else:\n",
        "            print(f\"Aluno de recuperação com nota {soma_nota/2}!\")\n",
        "            break\n",
        "    except:\n",
        "        print(\"Insira um valor válido para a nota do aluno!\")\n",
        ""
      ],
      "metadata": {
        "colab": {
          "base_uri": "https://localhost:8080/"
        },
        "id": "L6uXMdKhcVRJ",
        "outputId": "b2562d93-f40c-478a-a376-c50e10246369"
      },
      "execution_count": 14,
      "outputs": [
        {
          "output_type": "stream",
          "name": "stdout",
          "text": [
            "Insira a primeira nota do aluno:\n",
            "2\n",
            "Insira a segunda nota:\n",
            "1\n",
            "Aluno reprovado com nota 1.5!\n"
          ]
        }
      ]
    },
    {
      "cell_type": "markdown",
      "source": [
        "\n",
        "\n",
        "---\n",
        "# Exercício 6: Verificação de Ano Bissexto\n",
        "#### Descrição:\n",
        "\n",
        "- Escreva um programa que peça ao usuário um ano e determine se é um ano bissexto.\n",
        "\n",
        "#####  Regras para ano bissexto:\n",
        "\n",
        "- É divisível por 4 e não por 100, ou\n",
        "- É divisível por 400.\n",
        "#### Dicas:\n",
        "\n",
        "- Utilize o operador % para verificar a divisibilidade.\n",
        "- Aplique as condições conforme as regras acima.\n"
      ],
      "metadata": {
        "id": "FR5Ue-bUcbNI"
      }
    },
    {
      "cell_type": "code",
      "source": [
        "while True:\n",
        "  try:\n",
        "    i_ano = int(input(\"Digite um ano:\\n\"))\n",
        "    if i_ano % 400 == 0:\n",
        "      print(f\"{i_ano} é um ano bissexto!\")\n",
        "      break\n",
        "    elif i_ano % 4 == 0 and i_ano % 100 != 0:\n",
        "      print(f\"{i_ano} é um ano bissexto!\")\n",
        "      break\n",
        "    else:\n",
        "      print(f\"{i_ano} não é um número bissexto!\")\n",
        "      break\n",
        "  except ValueError:\n",
        "    print(\"Insira um valor válido!\")"
      ],
      "metadata": {
        "id": "wCq6rJRqcXKz"
      },
      "execution_count": null,
      "outputs": []
    },
    {
      "cell_type": "markdown",
      "source": [
        "\n",
        "\n",
        "---\n",
        "# Exercício 7: Conversão de Temperaturas\n",
        "##### Descrição:\n",
        "\n",
        "- Crie um programa que solicite ao usuário uma temperatura em graus Celsius e a unidade para a qual deseja converter (F para Fahrenheit ou K para Kelvin). O programa deve realizar a conversão e exibir o resultado.\n",
        "\n",
        "##### Fórmulas:\n",
        "\n",
        "- Fahrenheit: ( F = C \\times \\frac{9}{5} + 32 )\n",
        "- Kelvin: ( K = C + 273.15 )\n",
        "##### Dicas:\n",
        "\n",
        "- Capture a temperatura e a unidade desejada.\n",
        "- Use condicionais para determinar qual conversão realizar.\n"
      ],
      "metadata": {
        "id": "iV_JMSj6crNJ"
      }
    },
    {
      "cell_type": "markdown",
      "source": [
        "\n",
        "\n",
        "---\n",
        "\n",
        "# Exercício 8: Login Simples\n",
        "##### Descrição:\n",
        "\n",
        "- Desenvolva um programa que solicite um nome de usuário e uma senha. Verifique se o nome de usuário é \"admin\" e a senha é \"12345\". Se ambos estiverem corretos, exiba \"Acesso concedido\"; caso contrário, exiba \"Acesso negado\".\n",
        "\n",
        "##### Dicas:\n",
        "\n",
        "- Utilize input() para capturar as entradas.\n",
        "- Compare as strings levando em conta possíveis diferenças de maiúsculas e minúsculas, se necessário."
      ],
      "metadata": {
        "id": "utlHtpb0c0L4"
      }
    },
    {
      "cell_type": "markdown",
      "source": [
        "\n",
        "\n",
        "---\n",
        "# Exercício 9: Cálculo de IMC\n",
        "##### Descrição:\n",
        "\n",
        "- Escreva um programa que solicite o peso (em kg) e a altura (em metros) de uma pessoa. Calcule o Índice de Massa Corporal (IMC) e classifique-o de acordo com a tabela:\n",
        "\n",
        "- Menor que 18.5: \"Abaixo do peso\"\n",
        "- Entre 18.5 e 24.9: \"Peso normal\"\n",
        "- Entre 25 e 29.9: \"Sobrepeso\"\n",
        "- 30 ou mais: \"Obesidade\"\n",
        "##### Fórmula do IMC:\n",
        "\n",
        "- [ IMC = \\frac{peso}{altura^2} ]\n",
        "\n",
        "#### Dicas:\n",
        "\n",
        "- Certifique-se de converter as entradas para float.\n",
        "- Utilize condicionais para verificar em qual faixa o IMC se enquadra.\n"
      ],
      "metadata": {
        "id": "c2JRzgKjc-yw"
      }
    },
    {
      "cell_type": "markdown",
      "source": [
        "\n",
        "\n",
        "---\n",
        "\n",
        "# Exercício 10: Jogo de Adivinhação\n",
        "##### Descrição:\n",
        "\n",
        "- Crie um programa que sorteie um número inteiro entre 1 e 10 (use a função randint do módulo random) e peça ao usuário para adivinhar o número. O programa deve informar se o palpite do usuário é menor, maior ou igual ao número sorteado.\n",
        "\n",
        "##### Dicas:\n",
        "\n",
        "- Importe o módulo random usando import random.\n",
        "- Use random.randint(1, 10) para gerar o número aleatório.\n",
        "- Utilize condicionais para comparar o palpite do usuário com o número sorteado."
      ],
      "metadata": {
        "id": "YxIUYNqLdI-4"
      }
    },
    {
      "cell_type": "markdown",
      "source": [
        "\n",
        "\n",
        "---\n",
        "# Exercício 11:\n",
        "- Escreva uma função em Python que receba um número inteiro i_limite e, na sequência, imprime os números inteiros de 0 a i_limite;\n"
      ],
      "metadata": {
        "id": "r8VlmoQ5dTfP"
      }
    }
  ]
}